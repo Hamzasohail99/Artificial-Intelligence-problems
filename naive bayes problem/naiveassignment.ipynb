{
 "cells": [
  {
   "cell_type": "code",
   "execution_count": 1,
   "id": "73fab2e5",
   "metadata": {},
   "outputs": [
    {
     "name": "stdout",
     "output_type": "stream",
     "text": [
      "Two class Training data accuracy : \n",
      " 98.4\n",
      "Two class Testing data accuracy : \n",
      " 100.0\n",
      "Four class Training data accuracy : \n",
      " 99.2\n",
      "Four class Testing data accuracy : \n",
      " 100.0\n",
      "Overall accuracy of training data : \n",
      " 98.8\n",
      "Overall accuracy of training data : \n",
      " 100.0\n"
     ]
    },
    {
     "data": {
      "image/png": "[encoded data removed]",
      "text/plain": [
       "<Figure size 432x288 with 1 Axes>"
      ]
     },
     "metadata": {
      "needs_background": "light"
     },
     "output_type": "display_data"
    }
   ],
   "source": [
    "import numpy as np\n",
    "from matplotlib import pyplot as plt\n",
    "\n",
    "\n",
    "train_x= np.loadtxt(\"trainX.txt\")\n",
    "train_y= np.loadtxt(\"trainY.txt\")\n",
    "test_x= np.loadtxt(\"testX.txt\")\n",
    "test_y= np.loadtxt(\"testY.txt\")\n",
    "\n",
    "img = np.reshape(train_x[200],(16,16),order = 'F')\n",
    "plt.imshow(img)\n",
    "\n",
    "\n",
    "img = np.reshape(train_x[256],(16,16),order = 'F')\n",
    "plt.imshow(img)\n",
    "\n",
    "\n",
    "\n",
    "probTwo_1  = (np.sum(train_x[train_y==2],axis=0)+1)/(np.sum(train_y==2)+2)\n",
    "probTwo_0=1-probTwo_1\n",
    "probFour_1 = (np.sum(train_x[train_y==4],axis=0)+1)/(sum(train_y==4)+2)\n",
    "\n",
    "probFour_0=1-probFour_1\n",
    "\n",
    "\n",
    "def checkTwoOrFour(data):\n",
    "    is_two  = np.product(probTwo_1 [data==1])*np.product(probTwo_0 [data==0])\n",
    "    is_four = np.product(probFour_1[data==1])*np.product(probFour_0[data==0])\n",
    "    if(is_two<is_four):\n",
    "        return 4\n",
    "    return 2\n",
    "\n",
    "\n",
    "\n",
    "\n",
    "two_train_list=list(map(checkTwoOrFour, train_x[train_y==2]))\n",
    "two_train_list_sum=np.sum(two_train_list==np.array(2))\n",
    "accuray_two_training=two_train_list_sum/np.sum(train_y==2)\n",
    "print(\"Two class Training data accuracy : \\n\",accuray_two_training*100)\n",
    "\n",
    "\n",
    "\n",
    "two_test_list=list(map(checkTwoOrFour, test_x[test_y==2]))\n",
    "two_test_list_sum=np.sum(two_test_list==np.array(2))\n",
    "accuray_two_testing=two_test_list_sum/np.sum(test_y==2)\n",
    "print(\"Two class Testing data accuracy : \\n\",accuray_two_testing*100)\n",
    "\n",
    "\n",
    "four_train_list=list(map(checkTwoOrFour, train_x[train_y==4]))\n",
    "four_train_list_sum=np.sum(four_train_list==np.array(4))\n",
    "accuray_four_training=four_train_list_sum/np.sum(train_y==4)\n",
    "print(\"Four class Training data accuracy : \\n\",accuray_four_training*100)\n",
    "\n",
    "\n",
    "four_test_list=list(map(checkTwoOrFour, test_x[test_y==4]))\n",
    "four_test_list_sum=np.sum(four_test_list==np.array(4))\n",
    "accuray_four_testing=four_test_list_sum/np.sum(test_y==4)\n",
    "print(\"Four class Testing data accuracy : \\n\",accuray_four_testing*100)\n",
    "\n",
    "\n",
    "\n",
    "ovrall_two_trn=accuray_two_training*sum(train_y==2)*100\n",
    "ovrall_four_trn=accuray_four_training*sum(train_y==4)*100\n",
    "accuracy_overall_trn=(ovrall_two_trn+ovrall_four_trn)/train_y.shape[0]\n",
    "\n",
    "print(\"Overall accuracy of training data : \\n\",accuracy_overall_trn)\n",
    "\n",
    "\n",
    "\n",
    "\n",
    "ovrall_two_tst=accuray_two_testing*sum(train_y==2)*100\n",
    "ovrall_four_tst=accuray_four_testing*sum(train_y==4)*100\n",
    "accuracy_overall_tst=(ovrall_two_tst+ovrall_four_tst)/train_y.shape[0]\n",
    "\n",
    "print(\"Overall accuracy of training data : \\n\",accuracy_overall_tst)"
   ]
  },
  {
   "cell_type": "code",
   "execution_count": null,
   "id": "53f38dbe",
   "metadata": {},
   "outputs": [],
   "source": []
  }
 ],
 "metadata": {
  "kernelspec": {
   "display_name": "Python 3 (ipykernel)",
   "language": "python",
   "name": "python3"
  },
  "language_info": {
   "codemirror_mode": {
    "name": "ipython",
    "version": 3
   },
   "file_extension": ".py",
   "mimetype": "text/x-python",
   "name": "python",
   "nbconvert_exporter": "python",
   "pygments_lexer": "ipython3",
   "version": "3.9.7"
  }
 },
 "nbformat": 4,
 "nbformat_minor": 5
}
