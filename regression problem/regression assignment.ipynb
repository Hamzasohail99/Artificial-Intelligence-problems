{
 "cells": [
  {
   "cell_type": "code",
   "execution_count": 3,
   "id": "f4c318fe",
   "metadata": {},
   "outputs": [],
   "source": [
    "import pandas as pd\n",
    "import numpy as np\n",
    "%matplotlib inline\n",
    "import matplotlib.pyplot as plt"
   ]
  },
  {
   "cell_type": "code",
   "execution_count": 4,
   "id": "061ec3f8",
   "metadata": {},
   "outputs": [
    {
     "data": {
      "text/html": [
       "<div>\n",
       "<style scoped>\n",
       "    .dataframe tbody tr th:only-of-type {\n",
       "        vertical-align: middle;\n",
       "    }\n",
       "\n",
       "    .dataframe tbody tr th {\n",
       "        vertical-align: top;\n",
       "    }\n",
       "\n",
       "    .dataframe thead th {\n",
       "        text-align: right;\n",
       "    }\n",
       "</style>\n",
       "<table border=\"1\" class=\"dataframe\">\n",
       "  <thead>\n",
       "    <tr style=\"text-align: right;\">\n",
       "      <th></th>\n",
       "      <th>X</th>\n",
       "      <th>R</th>\n",
       "    </tr>\n",
       "  </thead>\n",
       "  <tbody>\n",
       "    <tr>\n",
       "      <th>0</th>\n",
       "      <td>0.01</td>\n",
       "      <td>-0.2730</td>\n",
       "    </tr>\n",
       "    <tr>\n",
       "      <th>1</th>\n",
       "      <td>0.02</td>\n",
       "      <td>-0.1170</td>\n",
       "    </tr>\n",
       "    <tr>\n",
       "      <th>2</th>\n",
       "      <td>0.03</td>\n",
       "      <td>-0.3090</td>\n",
       "    </tr>\n",
       "    <tr>\n",
       "      <th>3</th>\n",
       "      <td>0.04</td>\n",
       "      <td>0.0306</td>\n",
       "    </tr>\n",
       "    <tr>\n",
       "      <th>4</th>\n",
       "      <td>0.05</td>\n",
       "      <td>-0.0802</td>\n",
       "    </tr>\n",
       "  </tbody>\n",
       "</table>\n",
       "</div>"
      ],
      "text/plain": [
       "      X       R\n",
       "0  0.01 -0.2730\n",
       "1  0.02 -0.1170\n",
       "2  0.03 -0.3090\n",
       "3  0.04  0.0306\n",
       "4  0.05 -0.0802"
      ]
     },
     "execution_count": 4,
     "metadata": {},
     "output_type": "execute_result"
    }
   ],
   "source": [
    "training_data=pd.read_csv(\"trainRegression.csv\")\n",
    "training_data.head()"
   ]
  },
  {
   "cell_type": "code",
   "execution_count": 5,
   "id": "bd8c5f3c",
   "metadata": {},
   "outputs": [
    {
     "data": {
      "text/plain": [
       "[<matplotlib.lines.Line2D at 0x7fb6c0c77970>]"
      ]
     },
     "execution_count": 5,
     "metadata": {},
     "output_type": "execute_result"
    },
    {
     "data": {
      "image/png": "[encoded data removed]",
      "text/plain": [
       "<Figure size 432x288 with 1 Axes>"
      ]
     },
     "metadata": {
      "needs_background": "light"
     },
     "output_type": "display_data"
    }
   ],
   "source": [
    "trainX=np.array(training_data['X'])\n",
    "trainY=np.array(training_data['R'])\n",
    "plt.plot(trainX,trainY)"
   ]
  },
  {
   "cell_type": "code",
   "execution_count": 10,
   "id": "0a5cb4ee",
   "metadata": {},
   "outputs": [
    {
     "name": "stdout",
     "output_type": "stream",
     "text": [
      "[[283.     444.95  ]\n",
      " [444.95   932.7465]]\n",
      "[[   1.39087  ]\n",
      " [-126.6414295]]\n"
     ]
    }
   ],
   "source": [
    "m=trainX.shape\n",
    "sum_a=np.sum(trainX)\n",
    "sum_b=np.sum(np.multiply(trainX,trainX))\n",
    "sum_c=np.sum(trainY)\n",
    "sum_d=np.sum(np.multiply(trainX,trainY))\n",
    "matA=np.array([[m[0],sum_a],[sum_a,sum_b]])\n",
    "matB=np.array([[sum_c],[sum_d]])\n",
    "\n",
    "print(matA)\n",
    "print(matB)"
   ]
  },
  {
   "cell_type": "code",
   "execution_count": 11,
   "id": "0f490684",
   "metadata": {},
   "outputs": [
    {
     "name": "stdout",
     "output_type": "stream",
     "text": [
      "[[ 0.8736061 ]\n",
      " [-0.55251074]]\n"
     ]
    }
   ],
   "source": [
    "invA=np.linalg.inv(matA)\n",
    "res=np.dot(invA,matB)\n",
    "print(res)"
   ]
  },
  {
   "cell_type": "code",
   "execution_count": 12,
   "id": "75d41abc",
   "metadata": {},
   "outputs": [
    {
     "data": {
      "text/html": [
       "<div>\n",
       "<style scoped>\n",
       "    .dataframe tbody tr th:only-of-type {\n",
       "        vertical-align: middle;\n",
       "    }\n",
       "\n",
       "    .dataframe tbody tr th {\n",
       "        vertical-align: top;\n",
       "    }\n",
       "\n",
       "    .dataframe thead th {\n",
       "        text-align: right;\n",
       "    }\n",
       "</style>\n",
       "<table border=\"1\" class=\"dataframe\">\n",
       "  <thead>\n",
       "    <tr style=\"text-align: right;\">\n",
       "      <th></th>\n",
       "      <th>X</th>\n",
       "      <th>R</th>\n",
       "    </tr>\n",
       "  </thead>\n",
       "  <tbody>\n",
       "    <tr>\n",
       "      <th>0</th>\n",
       "      <td>0.0</td>\n",
       "      <td>-0.226</td>\n",
       "    </tr>\n",
       "    <tr>\n",
       "      <th>1</th>\n",
       "      <td>0.1</td>\n",
       "      <td>-0.174</td>\n",
       "    </tr>\n",
       "    <tr>\n",
       "      <th>2</th>\n",
       "      <td>0.2</td>\n",
       "      <td>0.459</td>\n",
       "    </tr>\n",
       "    <tr>\n",
       "      <th>3</th>\n",
       "      <td>0.3</td>\n",
       "      <td>0.638</td>\n",
       "    </tr>\n",
       "    <tr>\n",
       "      <th>4</th>\n",
       "      <td>0.4</td>\n",
       "      <td>0.869</td>\n",
       "    </tr>\n",
       "  </tbody>\n",
       "</table>\n",
       "</div>"
      ],
      "text/plain": [
       "     X      R\n",
       "0  0.0 -0.226\n",
       "1  0.1 -0.174\n",
       "2  0.2  0.459\n",
       "3  0.3  0.638\n",
       "4  0.4  0.869"
      ]
     },
     "execution_count": 12,
     "metadata": {},
     "output_type": "execute_result"
    }
   ],
   "source": [
    "test_data=pd.read_csv(\"testRegression.csv\")\n",
    "test_data.head()"
   ]
  },
  {
   "cell_type": "code",
   "execution_count": 14,
   "id": "281ad931",
   "metadata": {},
   "outputs": [
    {
     "name": "stdout",
     "output_type": "stream",
     "text": [
      "[[ 0.8736061  -0.55251074]]\n"
     ]
    }
   ],
   "source": [
    "#Linear Regression\n",
    "testX=np.array(test_data['X'])\n",
    "testY=np.array(test_data['R'])\n",
    "test=np.array([np.ones(testX.shape),testX])\n",
    "\n",
    "theta=np.array([[res[0,0],res[1,0]]])\n",
    "print(theta)"
   ]
  },
  {
   "cell_type": "code",
   "execution_count": 15,
   "id": "d896d3e3",
   "metadata": {},
   "outputs": [
    {
     "name": "stdout",
     "output_type": "stream",
     "text": [
      "Mean square error:  0.3159321720459774\n"
     ]
    },
    {
     "data": {
      "text/plain": [
       "[<matplotlib.lines.Line2D at 0x7fb6c0379ee0>,\n",
       " <matplotlib.lines.Line2D at 0x7fb6c0379f10>]"
      ]
     },
     "execution_count": 15,
     "metadata": {},
     "output_type": "execute_result"
    },
    {
     "data": {
      "image/png": "[encoded data removed]",
      "text/plain": [
       "<Figure size 432x288 with 1 Axes>"
      ]
     },
     "metadata": {
      "needs_background": "light"
     },
     "output_type": "display_data"
    }
   ],
   "source": [
    "yprime=np.dot(theta,test)\n",
    "testy1=np.array([testY])\n",
    "n=test_data.shape[0]\n",
    "msq=(np.sum(np.multiply((yprime-testy1),(yprime-testy1))))/(n)\n",
    "print(\"Mean square error: \", msq)\n",
    "\n",
    "plt.plot(testX,testY,testX,yprime[0,:])"
   ]
  },
  {
   "cell_type": "code",
   "execution_count": 20,
   "id": "3f4b507b",
   "metadata": {},
   "outputs": [
    {
     "name": "stdout",
     "output_type": "stream",
     "text": [
      "[[ 283.          444.95        932.7465    ]\n",
      " [ 444.95        932.7465     2199.781025  ]\n",
      " [ 932.7465     2199.781025   5533.85257677]]\n"
     ]
    }
   ],
   "source": [
    "#Quadratic Regression\n",
    "m=trainX.shape\n",
    "sumxi1=np.sum(trainX)\n",
    "sumxi2=np.sum(np.multiply(trainX,trainX))\n",
    "sumxi3=np.sum(np.multiply(np.multiply(trainX,trainX),trainX))\n",
    "sumxi4=np.sum(np.multiply(np.multiply(np.multiply(trainX,trainX),trainX),trainX))\n",
    "sumyi1=np.sum(trainY)\n",
    "sumyixi1=np.sum(np.multiply(trainY,trainX))\n",
    "sumyixi2=np.sum(np.multiply(trainY,np.multiply(trainX,trainX)))\n",
    "\n",
    "A=np.array([[m[0],sumxi1,sumxi2],[sumxi1,sumxi2,sumxi3],[sumxi2,sumxi3,sumxi4]])\n",
    "print(A)"
   ]
  },
  {
   "cell_type": "code",
   "execution_count": 21,
   "id": "9476c37d",
   "metadata": {},
   "outputs": [
    {
     "name": "stdout",
     "output_type": "stream",
     "text": [
      "[[   1.39087   ]\n",
      " [-126.6414295 ]\n",
      " [-378.87568955]]\n"
     ]
    }
   ],
   "source": [
    "B=np.array([[sumyi1],[sumyixi1],[sumyixi2]])\n",
    "print(B)"
   ]
  },
  {
   "cell_type": "code",
   "execution_count": 23,
   "id": "883fa52c",
   "metadata": {},
   "outputs": [
    {
     "name": "stdout",
     "output_type": "stream",
     "text": [
      "[[ 1.10611454]\n",
      " [-0.99606599]\n",
      " [ 0.14104585]]\n"
     ]
    }
   ],
   "source": [
    "InverseA=np.linalg.inv(A)\n",
    "res=np.dot(InverseA,B)\n",
    "print(res)"
   ]
  },
  {
   "cell_type": "code",
   "execution_count": 24,
   "id": "77ad0c84",
   "metadata": {},
   "outputs": [
    {
     "name": "stdout",
     "output_type": "stream",
     "text": [
      "[[ 1.10611454 -0.99606599  0.14104585]]\n"
     ]
    }
   ],
   "source": [
    "test=np.array([np.ones(testX.shape),testX,np.multiply(testX,testY)])\n",
    "theta=np.array([[res[0,0],res[1,0],res[2,0]]])\n",
    "print(theta)"
   ]
  },
  {
   "cell_type": "code",
   "execution_count": 25,
   "id": "a0ba62d0",
   "metadata": {},
   "outputs": [
    {
     "name": "stdout",
     "output_type": "stream",
     "text": [
      "Mean square error:  0.3649906162814853\n"
     ]
    },
    {
     "data": {
      "text/plain": [
       "[<matplotlib.lines.Line2D at 0x7fb6c02eff70>,\n",
       " <matplotlib.lines.Line2D at 0x7fb6c02effa0>]"
      ]
     },
     "execution_count": 25,
     "metadata": {},
     "output_type": "execute_result"
    },
    {
     "data": {
      "image/png": "[encoded data removed]",
      "text/plain": [
       "<Figure size 432x288 with 1 Axes>"
      ]
     },
     "metadata": {
      "needs_background": "light"
     },
     "output_type": "display_data"
    }
   ],
   "source": [
    "yprime=np.dot(theta,test)\n",
    "testy1=np.array([testY])\n",
    "n=test_data.shape[0]\n",
    "msq=(np.sum(np.multiply((yprime-testy1),(yprime-testy1))))/(2*n)\n",
    "\n",
    "print(\"Mean square error: \", msq)\n",
    "plt.plot(testX,testY,testX,yprime[0,:])"
   ]
  },
  {
   "cell_type": "code",
   "execution_count": 26,
   "id": "b8c57cc1",
   "metadata": {},
   "outputs": [
    {
     "name": "stdout",
     "output_type": "stream",
     "text": [
      "[[  283.           444.95         932.7465      2199.781025  ]\n",
      " [  444.95         932.7465      2199.781025    5533.85257677]\n",
      " [  932.7465      2199.781025    5533.85257677 14501.33829628]\n",
      " [ 2199.781025    5533.85257677 14501.33829628 39086.48841058]]\n",
      "[[   1.39087   ]\n",
      " [-126.6414295 ]\n",
      " [-378.87568955]\n",
      " [-952.32410353]]\n"
     ]
    }
   ],
   "source": [
    "#cubic Regression\n",
    "m=trainX.shape\n",
    "sumxi1=np.sum(trainX)\n",
    "sumxi2=np.sum(np.multiply(trainX,trainX))\n",
    "sumxi3=np.sum(np.multiply(np.multiply(trainX,trainX),trainX))\n",
    "sumxi4=np.sum(np.multiply(np.multiply(np.multiply(trainX,trainX),trainX),trainX))\n",
    "sumxi5=np.sum(np.multiply(np.multiply(np.multiply(np.multiply(trainX,trainX),trainX),trainX),trainX))\n",
    "sumxi6=np.sum(np.multiply(np.multiply(np.multiply(np.multiply(np.multiply(trainX,trainX),trainX),trainX),trainX),trainX))\n",
    "sumyi1=np.sum(trainY)\n",
    "sumyixi1=np.sum(np.multiply(trainY,trainX))\n",
    "sumyixi2=np.sum(np.multiply(trainY,np.multiply(trainX,trainX)))\n",
    "sumyixi3=np.sum(np.multiply(trainY,np.multiply(np.multiply(trainX,trainX),trainX)))\n",
    "A=np.array([[m[0],sumxi1,sumxi2,sumxi3],[sumxi1,sumxi2,sumxi3,sumxi4],[sumxi2,sumxi3,sumxi4,sumxi5],[sumxi3,sumxi4,sumxi5,sumxi6]])\n",
    "B=np.array([[sumyi1],[sumyixi1],[sumyixi2],[sumyixi3]])\n",
    "\n",
    "print(A)\n",
    "print(B)"
   ]
  },
  {
   "cell_type": "code",
   "execution_count": 27,
   "id": "2bba40e3",
   "metadata": {},
   "outputs": [
    {
     "name": "stdout",
     "output_type": "stream",
     "text": [
      "[[-0.18862637]\n",
      " [ 3.94071895]\n",
      " [-3.78251095]\n",
      " [ 0.83166145]]\n"
     ]
    }
   ],
   "source": [
    "InverseA=np.linalg.inv(A)\n",
    "res=np.dot(InverseA,B)\n",
    "print(res)"
   ]
  },
  {
   "cell_type": "code",
   "execution_count": 29,
   "id": "ac431832",
   "metadata": {},
   "outputs": [
    {
     "name": "stdout",
     "output_type": "stream",
     "text": [
      "Mean square error:  0.025771028845477974\n"
     ]
    },
    {
     "data": {
      "text/plain": [
       "[<matplotlib.lines.Line2D at 0x7fb6c01d9280>,\n",
       " <matplotlib.lines.Line2D at 0x7fb6c01d92b0>]"
      ]
     },
     "execution_count": 29,
     "metadata": {},
     "output_type": "execute_result"
    },
    {
     "data": {
      "image/png": "[encoded data removed]",
      "text/plain": [
       "<Figure size 432x288 with 1 Axes>"
      ]
     },
     "metadata": {
      "needs_background": "light"
     },
     "output_type": "display_data"
    }
   ],
   "source": [
    "test=np.array([np.ones(testX.shape),testX,np.multiply(testX,testX),np.multiply(np.multiply(testX,testX),testX)])\n",
    "theta=np.array([[res[0,0],res[1,0],res[2,0],res[3,0]]])\n",
    "yprime=np.dot(theta,test)\n",
    "testy1=np.array([testY])\n",
    "n=test_data.shape[0]\n",
    "msq=(np.sum(np.multiply((yprime-testy1),(yprime-testy1))))/(2*n)\n",
    "print(\"Mean square error: \", msq)\n",
    "plt.plot(testX,testY,testX,yprime[0,:])"
   ]
  },
  {
   "cell_type": "code",
   "execution_count": null,
   "id": "2feefd8e",
   "metadata": {},
   "outputs": [],
   "source": []
  }
 ],
 "metadata": {
  "kernelspec": {
   "display_name": "Python 3 (ipykernel)",
   "language": "python",
   "name": "python3"
  },
  "language_info": {
   "codemirror_mode": {
    "name": "ipython",
    "version": 3
   },
   "file_extension": ".py",
   "mimetype": "text/x-python",
   "name": "python",
   "nbconvert_exporter": "python",
   "pygments_lexer": "ipython3",
   "version": "3.9.7"
  }
 },
 "nbformat": 4,
 "nbformat_minor": 5
}
